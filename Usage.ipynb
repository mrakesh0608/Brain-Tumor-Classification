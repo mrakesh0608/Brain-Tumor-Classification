{
 "cells": [
  {
   "cell_type": "code",
   "execution_count": 1,
   "id": "eba7cc01",
   "metadata": {},
   "outputs": [],
   "source": [
    "from keras.models import load_model\n",
    "from skimage import io\n",
    "import cv2"
   ]
  },
  {
   "cell_type": "code",
   "execution_count": 2,
   "id": "ef56e78b",
   "metadata": {
    "scrolled": true
   },
   "outputs": [],
   "source": [
    "img_size = 200\n",
    "classes = {0: 'glioma',\n",
    "           1: 'meningioma',\n",
    "           2: 'notumor',\n",
    "           3: 'pituitary'\n",
    "          }\n",
    "model = load_model('models/Brain_tumor_classification.h5')"
   ]
  },
  {
   "cell_type": "code",
   "execution_count": 3,
   "id": "673f70fc",
   "metadata": {},
   "outputs": [],
   "source": [
    "def predict_class(image):\n",
    "    img = io.imread(image)\n",
    "    img = cv2.resize(img, (img_size,img_size)) / 255.0\n",
    "\n",
    "    predictions = (model.predict(\n",
    "        img.reshape(1, img_size, img_size, 3)) * 100.0).round(2)\n",
    "    \n",
    "    pred_dict = {}\n",
    "    \n",
    "    for index in classes:\n",
    "        pred_dict[classes[index]] = predictions[0][index]\n",
    "    return pred_dict"
   ]
  },
  {
   "cell_type": "code",
   "execution_count": 4,
   "id": "48defcc6",
   "metadata": {},
   "outputs": [
    {
     "name": "stdout",
     "output_type": "stream",
     "text": [
      "1/1 [==============================] - 1s 887ms/step\n"
     ]
    },
    {
     "data": {
      "text/plain": [
       "{'glioma': 99.85, 'meningioma': 0.0, 'notumor': 0.15, 'pituitary': 0.0}"
      ]
     },
     "execution_count": 4,
     "metadata": {},
     "output_type": "execute_result"
    }
   ],
   "source": [
    "result = predict_class('Dataset/Test/glioma/Test-glioma-0.jpg')\n",
    "result"
   ]
  },
  {
   "cell_type": "code",
   "execution_count": 5,
   "id": "a4c41cd0",
   "metadata": {},
   "outputs": [
    {
     "data": {
      "text/plain": [
       "{'glioma': 99.85, 'notumor': 0.15}"
      ]
     },
     "execution_count": 5,
     "metadata": {},
     "output_type": "execute_result"
    }
   ],
   "source": [
    "dict_dis = sorted(result.items(), key=lambda x: x[1], reverse=True)\n",
    "dict_dis = dict(sorted(result.items(), key=lambda x: x[1], reverse=True)[:2]) #top 2\n",
    "dict_dis"
   ]
  },
  {
   "cell_type": "code",
   "execution_count": 6,
   "id": "1fa676d4",
   "metadata": {},
   "outputs": [
    {
     "data": {
      "text/plain": [
       "'glioma'"
      ]
     },
     "execution_count": 6,
     "metadata": {},
     "output_type": "execute_result"
    }
   ],
   "source": [
    "max_val = max(dict_dis, key=dict_dis.get)\n",
    "max_val"
   ]
  }
 ],
 "metadata": {
  "kernelspec": {
   "display_name": "Python 3 (ipykernel)",
   "language": "python",
   "name": "python3"
  },
  "language_info": {
   "codemirror_mode": {
    "name": "ipython",
    "version": 3
   },
   "file_extension": ".py",
   "mimetype": "text/x-python",
   "name": "python",
   "nbconvert_exporter": "python",
   "pygments_lexer": "ipython3",
   "version": "3.11.2"
  }
 },
 "nbformat": 4,
 "nbformat_minor": 5
}
